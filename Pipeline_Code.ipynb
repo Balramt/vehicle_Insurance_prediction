{
 "cells": [
  {
   "cell_type": "code",
   "execution_count": 43,
   "id": "aff141bd",
   "metadata": {},
   "outputs": [],
   "source": [
    "import numpy as np\n",
    "import pandas as pd\n",
    "import matplotlib.pyplot as plt\n",
    "import plotly.express as px\n",
    "import seaborn as sns\n",
    "sns.set(style='whitegrid')\n",
    "from sklearn.model_selection import train_test_split\n",
    "from sklearn.cluster import KMeans\n",
    "from sklearn.tree import DecisionTreeClassifier\n",
    "#from sklearn.metrics import plot_confusion_matrix\n",
    "from sklearn.metrics import confusion_matrix, ConfusionMatrixDisplay\n",
    "from sklearn.ensemble import ExtraTreesClassifier, RandomForestClassifier, BaggingClassifier\n",
    "from sklearn.neighbors import KNeighborsClassifier\n",
    "from sklearn.metrics import accuracy_score, precision_score, recall_score, f1_score\n",
    "from sklearn.pipeline import Pipeline\n",
    "from sklearn.impute import SimpleImputer\n",
    "from sklearn.compose import ColumnTransformer"
   ]
  },
  {
   "cell_type": "code",
   "execution_count": 23,
   "id": "3b9105c7",
   "metadata": {},
   "outputs": [],
   "source": [
    "train = pd.read_csv('E:/Workspace_DS/Insurance_prediction/Data_Sets/train.csv')\n",
    "test = pd.read_csv('E:/Workspace_DS/Insurance_prediction/Data_Sets/test.csv')"
   ]
  },
  {
   "cell_type": "code",
   "execution_count": 24,
   "id": "e9a01ca1",
   "metadata": {},
   "outputs": [],
   "source": [
    "ptrain= train\n",
    "ptest = test"
   ]
  },
  {
   "cell_type": "code",
   "execution_count": 18,
   "id": "2f07cfb7",
   "metadata": {},
   "outputs": [
    {
     "data": {
      "text/plain": [
       "(4573308, 1397407, 4573308, 1397407)"
      ]
     },
     "execution_count": 18,
     "metadata": {},
     "output_type": "execute_result"
    }
   ],
   "source": [
    "train.size,test.size,ptrain.size,ptest.size\n"
   ]
  },
  {
   "cell_type": "code",
   "execution_count": 27,
   "id": "d930f6aa",
   "metadata": {},
   "outputs": [],
   "source": [
    "ptrain['Vehicle_Age']=train['Vehicle_Age'].replace({'< 1 Year':0,'1-2 Year':1,'> 2 Years':2})\n",
    "ptrain['Gender']=train['Gender'].replace({'Male':1,'Female':0})\n",
    "ptrain['Vehicle_Damage']=train['Vehicle_Damage'].replace({'Yes':1,'No':0})"
   ]
  },
  {
   "cell_type": "code",
   "execution_count": 65,
   "id": "33554204",
   "metadata": {},
   "outputs": [],
   "source": [
    "ptest['Vehicle_Age']=test['Vehicle_Age'].replace({'< 1 Year':0,'1-2 Year':1,'> 2 Years':2})\n",
    "ptest['Gender']=test['Gender'].replace({'Male':1,'Female':0})\n",
    "ptest['Vehicle_Damage']=test['Vehicle_Damage'].replace({'Yes':1,'No':0})"
   ]
  },
  {
   "cell_type": "code",
   "execution_count": 67,
   "id": "08d8bed1",
   "metadata": {},
   "outputs": [
    {
     "data": {
      "text/html": [
       "<div>\n",
       "<style scoped>\n",
       "    .dataframe tbody tr th:only-of-type {\n",
       "        vertical-align: middle;\n",
       "    }\n",
       "\n",
       "    .dataframe tbody tr th {\n",
       "        vertical-align: top;\n",
       "    }\n",
       "\n",
       "    .dataframe thead th {\n",
       "        text-align: right;\n",
       "    }\n",
       "</style>\n",
       "<table border=\"1\" class=\"dataframe\">\n",
       "  <thead>\n",
       "    <tr style=\"text-align: right;\">\n",
       "      <th></th>\n",
       "      <th>id</th>\n",
       "      <th>Gender</th>\n",
       "      <th>Age</th>\n",
       "      <th>Driving_License</th>\n",
       "      <th>Region_Code</th>\n",
       "      <th>Previously_Insured</th>\n",
       "      <th>Vehicle_Age</th>\n",
       "      <th>Vehicle_Damage</th>\n",
       "      <th>Annual_Premium</th>\n",
       "      <th>Policy_Sales_Channel</th>\n",
       "      <th>Vintage</th>\n",
       "    </tr>\n",
       "  </thead>\n",
       "  <tbody>\n",
       "    <tr>\n",
       "      <th>0</th>\n",
       "      <td>381110</td>\n",
       "      <td>1</td>\n",
       "      <td>25</td>\n",
       "      <td>1</td>\n",
       "      <td>11.0</td>\n",
       "      <td>1</td>\n",
       "      <td>0</td>\n",
       "      <td>0</td>\n",
       "      <td>35786.0</td>\n",
       "      <td>152.0</td>\n",
       "      <td>53</td>\n",
       "    </tr>\n",
       "    <tr>\n",
       "      <th>1</th>\n",
       "      <td>381111</td>\n",
       "      <td>1</td>\n",
       "      <td>40</td>\n",
       "      <td>1</td>\n",
       "      <td>28.0</td>\n",
       "      <td>0</td>\n",
       "      <td>1</td>\n",
       "      <td>1</td>\n",
       "      <td>33762.0</td>\n",
       "      <td>7.0</td>\n",
       "      <td>111</td>\n",
       "    </tr>\n",
       "    <tr>\n",
       "      <th>2</th>\n",
       "      <td>381112</td>\n",
       "      <td>1</td>\n",
       "      <td>47</td>\n",
       "      <td>1</td>\n",
       "      <td>28.0</td>\n",
       "      <td>0</td>\n",
       "      <td>1</td>\n",
       "      <td>1</td>\n",
       "      <td>40050.0</td>\n",
       "      <td>124.0</td>\n",
       "      <td>199</td>\n",
       "    </tr>\n",
       "    <tr>\n",
       "      <th>3</th>\n",
       "      <td>381113</td>\n",
       "      <td>1</td>\n",
       "      <td>24</td>\n",
       "      <td>1</td>\n",
       "      <td>27.0</td>\n",
       "      <td>1</td>\n",
       "      <td>0</td>\n",
       "      <td>1</td>\n",
       "      <td>37356.0</td>\n",
       "      <td>152.0</td>\n",
       "      <td>187</td>\n",
       "    </tr>\n",
       "    <tr>\n",
       "      <th>4</th>\n",
       "      <td>381114</td>\n",
       "      <td>1</td>\n",
       "      <td>27</td>\n",
       "      <td>1</td>\n",
       "      <td>28.0</td>\n",
       "      <td>1</td>\n",
       "      <td>0</td>\n",
       "      <td>0</td>\n",
       "      <td>59097.0</td>\n",
       "      <td>152.0</td>\n",
       "      <td>297</td>\n",
       "    </tr>\n",
       "    <tr>\n",
       "      <th>...</th>\n",
       "      <td>...</td>\n",
       "      <td>...</td>\n",
       "      <td>...</td>\n",
       "      <td>...</td>\n",
       "      <td>...</td>\n",
       "      <td>...</td>\n",
       "      <td>...</td>\n",
       "      <td>...</td>\n",
       "      <td>...</td>\n",
       "      <td>...</td>\n",
       "      <td>...</td>\n",
       "    </tr>\n",
       "    <tr>\n",
       "      <th>127032</th>\n",
       "      <td>508142</td>\n",
       "      <td>0</td>\n",
       "      <td>26</td>\n",
       "      <td>1</td>\n",
       "      <td>37.0</td>\n",
       "      <td>1</td>\n",
       "      <td>0</td>\n",
       "      <td>0</td>\n",
       "      <td>30867.0</td>\n",
       "      <td>152.0</td>\n",
       "      <td>56</td>\n",
       "    </tr>\n",
       "    <tr>\n",
       "      <th>127033</th>\n",
       "      <td>508143</td>\n",
       "      <td>0</td>\n",
       "      <td>38</td>\n",
       "      <td>1</td>\n",
       "      <td>28.0</td>\n",
       "      <td>0</td>\n",
       "      <td>1</td>\n",
       "      <td>1</td>\n",
       "      <td>28700.0</td>\n",
       "      <td>122.0</td>\n",
       "      <td>165</td>\n",
       "    </tr>\n",
       "    <tr>\n",
       "      <th>127034</th>\n",
       "      <td>508144</td>\n",
       "      <td>1</td>\n",
       "      <td>21</td>\n",
       "      <td>1</td>\n",
       "      <td>46.0</td>\n",
       "      <td>1</td>\n",
       "      <td>0</td>\n",
       "      <td>0</td>\n",
       "      <td>29802.0</td>\n",
       "      <td>152.0</td>\n",
       "      <td>74</td>\n",
       "    </tr>\n",
       "    <tr>\n",
       "      <th>127035</th>\n",
       "      <td>508145</td>\n",
       "      <td>1</td>\n",
       "      <td>71</td>\n",
       "      <td>1</td>\n",
       "      <td>28.0</td>\n",
       "      <td>1</td>\n",
       "      <td>1</td>\n",
       "      <td>0</td>\n",
       "      <td>62875.0</td>\n",
       "      <td>26.0</td>\n",
       "      <td>265</td>\n",
       "    </tr>\n",
       "    <tr>\n",
       "      <th>127036</th>\n",
       "      <td>508146</td>\n",
       "      <td>1</td>\n",
       "      <td>41</td>\n",
       "      <td>1</td>\n",
       "      <td>29.0</td>\n",
       "      <td>1</td>\n",
       "      <td>1</td>\n",
       "      <td>0</td>\n",
       "      <td>27927.0</td>\n",
       "      <td>124.0</td>\n",
       "      <td>231</td>\n",
       "    </tr>\n",
       "  </tbody>\n",
       "</table>\n",
       "<p>127037 rows × 11 columns</p>\n",
       "</div>"
      ],
      "text/plain": [
       "            id  Gender  Age  Driving_License  Region_Code  Previously_Insured  \\\n",
       "0       381110       1   25                1         11.0                   1   \n",
       "1       381111       1   40                1         28.0                   0   \n",
       "2       381112       1   47                1         28.0                   0   \n",
       "3       381113       1   24                1         27.0                   1   \n",
       "4       381114       1   27                1         28.0                   1   \n",
       "...        ...     ...  ...              ...          ...                 ...   \n",
       "127032  508142       0   26                1         37.0                   1   \n",
       "127033  508143       0   38                1         28.0                   0   \n",
       "127034  508144       1   21                1         46.0                   1   \n",
       "127035  508145       1   71                1         28.0                   1   \n",
       "127036  508146       1   41                1         29.0                   1   \n",
       "\n",
       "        Vehicle_Age  Vehicle_Damage  Annual_Premium  Policy_Sales_Channel  \\\n",
       "0                 0               0         35786.0                 152.0   \n",
       "1                 1               1         33762.0                   7.0   \n",
       "2                 1               1         40050.0                 124.0   \n",
       "3                 0               1         37356.0                 152.0   \n",
       "4                 0               0         59097.0                 152.0   \n",
       "...             ...             ...             ...                   ...   \n",
       "127032            0               0         30867.0                 152.0   \n",
       "127033            1               1         28700.0                 122.0   \n",
       "127034            0               0         29802.0                 152.0   \n",
       "127035            1               0         62875.0                  26.0   \n",
       "127036            1               0         27927.0                 124.0   \n",
       "\n",
       "        Vintage  \n",
       "0            53  \n",
       "1           111  \n",
       "2           199  \n",
       "3           187  \n",
       "4           297  \n",
       "...         ...  \n",
       "127032       56  \n",
       "127033      165  \n",
       "127034       74  \n",
       "127035      265  \n",
       "127036      231  \n",
       "\n",
       "[127037 rows x 11 columns]"
      ]
     },
     "execution_count": 67,
     "metadata": {},
     "output_type": "execute_result"
    }
   ],
   "source": [
    "ptest"
   ]
  },
  {
   "cell_type": "code",
   "execution_count": 30,
   "id": "e95ac1fb",
   "metadata": {},
   "outputs": [],
   "source": [
    "#First, I delete the \"id\" column as it will not contribute to model training.\n",
    "#If inplace were set to False, the drop method would return a new DataFrame with the specified column removed, \n",
    "#and train would remain unchanged.\n",
    "ptrain.drop(columns=\"id\", inplace=True, errors=\"ignore\")"
   ]
  },
  {
   "cell_type": "code",
   "execution_count": 32,
   "id": "01e3b05c",
   "metadata": {},
   "outputs": [],
   "source": [
    "#I define the \"Response\" column to y and the other columns to X.\n",
    "\n",
    "X = ptrain[ptrain.columns[:-1]]\n",
    "y = ptrain[ptrain.columns[-1]]"
   ]
  },
  {
   "cell_type": "code",
   "execution_count": 33,
   "id": "deff727f",
   "metadata": {},
   "outputs": [
    {
     "data": {
      "text/plain": [
       "(pandas.core.frame.DataFrame, pandas.core.series.Series, 3811090, 381109)"
      ]
     },
     "execution_count": 33,
     "metadata": {},
     "output_type": "execute_result"
    }
   ],
   "source": [
    "type(X),type(y), X.size, y.size"
   ]
  },
  {
   "cell_type": "code",
   "execution_count": 35,
   "id": "71b7c401",
   "metadata": {},
   "outputs": [
    {
     "data": {
      "text/html": [
       "<div>\n",
       "<style scoped>\n",
       "    .dataframe tbody tr th:only-of-type {\n",
       "        vertical-align: middle;\n",
       "    }\n",
       "\n",
       "    .dataframe tbody tr th {\n",
       "        vertical-align: top;\n",
       "    }\n",
       "\n",
       "    .dataframe thead th {\n",
       "        text-align: right;\n",
       "    }\n",
       "</style>\n",
       "<table border=\"1\" class=\"dataframe\">\n",
       "  <thead>\n",
       "    <tr style=\"text-align: right;\">\n",
       "      <th></th>\n",
       "      <th>Gender</th>\n",
       "      <th>Age</th>\n",
       "      <th>Driving_License</th>\n",
       "      <th>Region_Code</th>\n",
       "      <th>Previously_Insured</th>\n",
       "      <th>Vehicle_Age</th>\n",
       "      <th>Vehicle_Damage</th>\n",
       "      <th>Annual_Premium</th>\n",
       "      <th>Policy_Sales_Channel</th>\n",
       "      <th>Vintage</th>\n",
       "    </tr>\n",
       "  </thead>\n",
       "  <tbody>\n",
       "    <tr>\n",
       "      <th>0</th>\n",
       "      <td>1</td>\n",
       "      <td>44</td>\n",
       "      <td>1</td>\n",
       "      <td>28.0</td>\n",
       "      <td>0</td>\n",
       "      <td>2</td>\n",
       "      <td>1</td>\n",
       "      <td>40454.0</td>\n",
       "      <td>26.0</td>\n",
       "      <td>217</td>\n",
       "    </tr>\n",
       "    <tr>\n",
       "      <th>1</th>\n",
       "      <td>1</td>\n",
       "      <td>76</td>\n",
       "      <td>1</td>\n",
       "      <td>3.0</td>\n",
       "      <td>0</td>\n",
       "      <td>1</td>\n",
       "      <td>0</td>\n",
       "      <td>33536.0</td>\n",
       "      <td>26.0</td>\n",
       "      <td>183</td>\n",
       "    </tr>\n",
       "    <tr>\n",
       "      <th>2</th>\n",
       "      <td>1</td>\n",
       "      <td>47</td>\n",
       "      <td>1</td>\n",
       "      <td>28.0</td>\n",
       "      <td>0</td>\n",
       "      <td>2</td>\n",
       "      <td>1</td>\n",
       "      <td>38294.0</td>\n",
       "      <td>26.0</td>\n",
       "      <td>27</td>\n",
       "    </tr>\n",
       "    <tr>\n",
       "      <th>3</th>\n",
       "      <td>1</td>\n",
       "      <td>21</td>\n",
       "      <td>1</td>\n",
       "      <td>11.0</td>\n",
       "      <td>1</td>\n",
       "      <td>0</td>\n",
       "      <td>0</td>\n",
       "      <td>28619.0</td>\n",
       "      <td>152.0</td>\n",
       "      <td>203</td>\n",
       "    </tr>\n",
       "    <tr>\n",
       "      <th>4</th>\n",
       "      <td>0</td>\n",
       "      <td>29</td>\n",
       "      <td>1</td>\n",
       "      <td>41.0</td>\n",
       "      <td>1</td>\n",
       "      <td>0</td>\n",
       "      <td>0</td>\n",
       "      <td>27496.0</td>\n",
       "      <td>152.0</td>\n",
       "      <td>39</td>\n",
       "    </tr>\n",
       "    <tr>\n",
       "      <th>...</th>\n",
       "      <td>...</td>\n",
       "      <td>...</td>\n",
       "      <td>...</td>\n",
       "      <td>...</td>\n",
       "      <td>...</td>\n",
       "      <td>...</td>\n",
       "      <td>...</td>\n",
       "      <td>...</td>\n",
       "      <td>...</td>\n",
       "      <td>...</td>\n",
       "    </tr>\n",
       "    <tr>\n",
       "      <th>381104</th>\n",
       "      <td>1</td>\n",
       "      <td>74</td>\n",
       "      <td>1</td>\n",
       "      <td>26.0</td>\n",
       "      <td>1</td>\n",
       "      <td>1</td>\n",
       "      <td>0</td>\n",
       "      <td>30170.0</td>\n",
       "      <td>26.0</td>\n",
       "      <td>88</td>\n",
       "    </tr>\n",
       "    <tr>\n",
       "      <th>381105</th>\n",
       "      <td>1</td>\n",
       "      <td>30</td>\n",
       "      <td>1</td>\n",
       "      <td>37.0</td>\n",
       "      <td>1</td>\n",
       "      <td>0</td>\n",
       "      <td>0</td>\n",
       "      <td>40016.0</td>\n",
       "      <td>152.0</td>\n",
       "      <td>131</td>\n",
       "    </tr>\n",
       "    <tr>\n",
       "      <th>381106</th>\n",
       "      <td>1</td>\n",
       "      <td>21</td>\n",
       "      <td>1</td>\n",
       "      <td>30.0</td>\n",
       "      <td>1</td>\n",
       "      <td>0</td>\n",
       "      <td>0</td>\n",
       "      <td>35118.0</td>\n",
       "      <td>160.0</td>\n",
       "      <td>161</td>\n",
       "    </tr>\n",
       "    <tr>\n",
       "      <th>381107</th>\n",
       "      <td>0</td>\n",
       "      <td>68</td>\n",
       "      <td>1</td>\n",
       "      <td>14.0</td>\n",
       "      <td>0</td>\n",
       "      <td>2</td>\n",
       "      <td>1</td>\n",
       "      <td>44617.0</td>\n",
       "      <td>124.0</td>\n",
       "      <td>74</td>\n",
       "    </tr>\n",
       "    <tr>\n",
       "      <th>381108</th>\n",
       "      <td>1</td>\n",
       "      <td>46</td>\n",
       "      <td>1</td>\n",
       "      <td>29.0</td>\n",
       "      <td>0</td>\n",
       "      <td>1</td>\n",
       "      <td>0</td>\n",
       "      <td>41777.0</td>\n",
       "      <td>26.0</td>\n",
       "      <td>237</td>\n",
       "    </tr>\n",
       "  </tbody>\n",
       "</table>\n",
       "<p>381109 rows × 10 columns</p>\n",
       "</div>"
      ],
      "text/plain": [
       "        Gender  Age  Driving_License  Region_Code  Previously_Insured  \\\n",
       "0            1   44                1         28.0                   0   \n",
       "1            1   76                1          3.0                   0   \n",
       "2            1   47                1         28.0                   0   \n",
       "3            1   21                1         11.0                   1   \n",
       "4            0   29                1         41.0                   1   \n",
       "...        ...  ...              ...          ...                 ...   \n",
       "381104       1   74                1         26.0                   1   \n",
       "381105       1   30                1         37.0                   1   \n",
       "381106       1   21                1         30.0                   1   \n",
       "381107       0   68                1         14.0                   0   \n",
       "381108       1   46                1         29.0                   0   \n",
       "\n",
       "        Vehicle_Age  Vehicle_Damage  Annual_Premium  Policy_Sales_Channel  \\\n",
       "0                 2               1         40454.0                  26.0   \n",
       "1                 1               0         33536.0                  26.0   \n",
       "2                 2               1         38294.0                  26.0   \n",
       "3                 0               0         28619.0                 152.0   \n",
       "4                 0               0         27496.0                 152.0   \n",
       "...             ...             ...             ...                   ...   \n",
       "381104            1               0         30170.0                  26.0   \n",
       "381105            0               0         40016.0                 152.0   \n",
       "381106            0               0         35118.0                 160.0   \n",
       "381107            2               1         44617.0                 124.0   \n",
       "381108            1               0         41777.0                  26.0   \n",
       "\n",
       "        Vintage  \n",
       "0           217  \n",
       "1           183  \n",
       "2            27  \n",
       "3           203  \n",
       "4            39  \n",
       "...         ...  \n",
       "381104       88  \n",
       "381105      131  \n",
       "381106      161  \n",
       "381107       74  \n",
       "381108      237  \n",
       "\n",
       "[381109 rows x 10 columns]"
      ]
     },
     "execution_count": 35,
     "metadata": {},
     "output_type": "execute_result"
    }
   ],
   "source": [
    "X"
   ]
  },
  {
   "cell_type": "code",
   "execution_count": 40,
   "id": "31ea02e3",
   "metadata": {},
   "outputs": [],
   "source": [
    "# Define preprocessing for numeric features\n",
    "numeric_features = ['Gender', 'Age','Driving_License','Region_Code','Previously_Insured','Vehicle_Age','Annual_Premium','Policy_Sales_Channel','Vintage']  # Update with your numeric features\n",
    "numeric_transformer = Pipeline(steps=[\n",
    "    ('imputer', SimpleImputer(strategy='mean'))\n",
    "])"
   ]
  },
  {
   "cell_type": "code",
   "execution_count": 44,
   "id": "ceeda534",
   "metadata": {},
   "outputs": [],
   "source": [
    "# Create a preprocessor that applies transformations to numeric and categorical features\n",
    "preprocessor = ColumnTransformer(\n",
    "    transformers=[\n",
    "        ('num', numeric_transformer, numeric_features)\n",
    "    ])"
   ]
  },
  {
   "cell_type": "markdown",
   "id": "7b485b49",
   "metadata": {},
   "source": [
    "# Create pipelines for each model"
   ]
  },
  {
   "cell_type": "code",
   "execution_count": 52,
   "id": "094f9431",
   "metadata": {},
   "outputs": [],
   "source": [
    "# Decision Tree pipeline\n",
    "dt_pipeline = Pipeline(steps=[\n",
    "    ('preprocessor', preprocessor),\n",
    "    ('classifier', DecisionTreeClassifier())\n",
    "])"
   ]
  },
  {
   "cell_type": "code",
   "execution_count": 46,
   "id": "77ba3e8a",
   "metadata": {},
   "outputs": [],
   "source": [
    "# Random Forest Classifier Pipeline\n",
    "rf_pipeline = Pipeline(steps=[\n",
    "    ('preprocessor', preprocessor),  # Apply preprocessing\n",
    "    ('classifier', RandomForestClassifier(random_state=1))  # Random Forest Classifier model\n",
    "])"
   ]
  },
  {
   "cell_type": "code",
   "execution_count": 47,
   "id": "a08e4e3d",
   "metadata": {},
   "outputs": [],
   "source": [
    "# K-Nearest Neighbors Classifier Pipeline\n",
    "knn_pipeline = Pipeline(steps=[\n",
    "    ('preprocessor', preprocessor),  # Apply preprocessing\n",
    "    ('classifier', KNeighborsClassifier(n_neighbors=11, metric='minkowski', p=2))  # KNN Classifier model\n",
    "])"
   ]
  },
  {
   "cell_type": "code",
   "execution_count": 48,
   "id": "1551bd6a",
   "metadata": {},
   "outputs": [],
   "source": [
    "# Bagging Classifier Pipeline\n",
    "bagging_pipeline = Pipeline(steps=[\n",
    "    ('preprocessor', preprocessor),  # Apply preprocessing\n",
    "    ('classifier', BaggingClassifier())  # Bagging Classifier model\n",
    "])\n"
   ]
  },
  {
   "cell_type": "code",
   "execution_count": 49,
   "id": "01120be8",
   "metadata": {},
   "outputs": [],
   "source": [
    "X_train, X_test, y_train, y_test = train_test_split(X, y, test_size=0.20, random_state=42)"
   ]
  },
  {
   "cell_type": "code",
   "execution_count": 51,
   "id": "a8e76ea2",
   "metadata": {},
   "outputs": [
    {
     "data": {
      "text/plain": [
       "(3048870, 304887, 762220, 76222, 4192199, 1397407)"
      ]
     },
     "execution_count": 51,
     "metadata": {},
     "output_type": "execute_result"
    }
   ],
   "source": [
    "X_train.size, y_train.size,X_test.size, y_test.size,ptrain.size,ptest.size"
   ]
  },
  {
   "cell_type": "code",
   "execution_count": 54,
   "id": "64d2f1ae",
   "metadata": {},
   "outputs": [
    {
     "data": {
      "text/plain": [
       "array([0, 0, 0, ..., 0, 0, 0], dtype=int64)"
      ]
     },
     "execution_count": 54,
     "metadata": {},
     "output_type": "execute_result"
    }
   ],
   "source": [
    "# Fit the pipeline on your data\n",
    "dt_pipeline.fit(X_train, y_train)\n",
    "\n",
    "# Example usage: Predict with the fitted pipeline\n",
    "y_pred_tree = dt_pipeline.predict(X_test)\n",
    "y_pred_tree"
   ]
  },
  {
   "cell_type": "code",
   "execution_count": 55,
   "id": "37b2a984",
   "metadata": {},
   "outputs": [
    {
     "data": {
      "text/plain": [
       "array([0, 0, 1, ..., 0, 0, 0], dtype=int64)"
      ]
     },
     "execution_count": 55,
     "metadata": {},
     "output_type": "execute_result"
    }
   ],
   "source": [
    "# Fit the pipeline on your data\n",
    "rf_pipeline.fit(X_train, y_train)\n",
    "\n",
    "# Example usage: Predict with the fitted pipeline\n",
    "y_pred_rf = rf_pipeline.predict(X_test)\n",
    "y_pred_rf"
   ]
  },
  {
   "cell_type": "code",
   "execution_count": 56,
   "id": "e9233750",
   "metadata": {},
   "outputs": [
    {
     "data": {
      "text/plain": [
       "array([0, 0, 0, ..., 0, 0, 0], dtype=int64)"
      ]
     },
     "execution_count": 56,
     "metadata": {},
     "output_type": "execute_result"
    }
   ],
   "source": [
    "# Fit the pipeline on your data\n",
    "knn_pipeline.fit(X_train, y_train)\n",
    "\n",
    "# Example usage: Predict with the fitted pipeline\n",
    "y_pred_knn = knn_pipeline.predict(X_test)\n",
    "y_pred_knn"
   ]
  },
  {
   "cell_type": "code",
   "execution_count": 57,
   "id": "84acc5c9",
   "metadata": {},
   "outputs": [
    {
     "data": {
      "text/plain": [
       "array([0, 0, 0, ..., 0, 0, 0], dtype=int64)"
      ]
     },
     "execution_count": 57,
     "metadata": {},
     "output_type": "execute_result"
    }
   ],
   "source": [
    "# Fit the pipeline on your data\n",
    "bagging_pipeline.fit(X_train, y_train)\n",
    "\n",
    "# Example usage: Predict with the fitted pipeline\n",
    "y_pred_bagging = bagging_pipeline.predict(X_test)\n",
    "y_pred_bagging"
   ]
  },
  {
   "cell_type": "code",
   "execution_count": 62,
   "id": "d4b39ca1",
   "metadata": {},
   "outputs": [
    {
     "name": "stdout",
     "output_type": "stream",
     "text": [
      "DecisionTreeClassifier Accuracy =  0.8188055941854058\n",
      "RandomForestClassifier Accuracy =  0.8652619978483902\n",
      "KNeighborsClassifier Accuracy =  0.8713363595812232\n",
      "BaggingClassifier Accuracy =  0.8603290388601716\n"
     ]
    }
   ],
   "source": [
    "print(\"DecisionTreeClassifier Accuracy = \",accuracy_score(y_test, y_pred_tree))\n",
    "print(\"RandomForestClassifier Accuracy = \",accuracy_score(y_test,y_pred_rf))\n",
    "print(\"KNeighborsClassifier Accuracy = \",accuracy_score(y_test,y_pred_knn))\n",
    "print(\"BaggingClassifier Accuracy = \",accuracy_score(y_test,y_pred_bagging))"
   ]
  },
  {
   "cell_type": "code",
   "execution_count": null,
   "id": "6fef00be",
   "metadata": {},
   "outputs": [],
   "source": []
  },
  {
   "cell_type": "code",
   "execution_count": null,
   "id": "1906b111",
   "metadata": {},
   "outputs": [],
   "source": [
    "It seems that KNeighborsClassifier has the best accuracy score. So I am going to use this model on submission.csv"
   ]
  },
  {
   "cell_type": "code",
   "execution_count": 66,
   "id": "74f2d7d8",
   "metadata": {},
   "outputs": [
    {
     "data": {
      "text/plain": [
       "array([0, 0, 0, ..., 0, 0, 0], dtype=int64)"
      ]
     },
     "execution_count": 66,
     "metadata": {},
     "output_type": "execute_result"
    }
   ],
   "source": [
    "# Predicting response for unseen test data sets\n",
    "test_KNN = ptest.drop(columns=\"id\", inplace=False, errors=\"ignore\")\n",
    "predictions_test_KNN = knn_pipeline.predict(test_KNN)\n",
    "predictions_test_KNN"
   ]
  },
  {
   "cell_type": "code",
   "execution_count": 70,
   "id": "a241b390",
   "metadata": {},
   "outputs": [
    {
     "data": {
      "text/html": [
       "<div>\n",
       "<style scoped>\n",
       "    .dataframe tbody tr th:only-of-type {\n",
       "        vertical-align: middle;\n",
       "    }\n",
       "\n",
       "    .dataframe tbody tr th {\n",
       "        vertical-align: top;\n",
       "    }\n",
       "\n",
       "    .dataframe thead th {\n",
       "        text-align: right;\n",
       "    }\n",
       "</style>\n",
       "<table border=\"1\" class=\"dataframe\">\n",
       "  <thead>\n",
       "    <tr style=\"text-align: right;\">\n",
       "      <th></th>\n",
       "      <th>id</th>\n",
       "      <th>Response</th>\n",
       "    </tr>\n",
       "  </thead>\n",
       "  <tbody>\n",
       "    <tr>\n",
       "      <th>0</th>\n",
       "      <td>381110</td>\n",
       "      <td>0</td>\n",
       "    </tr>\n",
       "    <tr>\n",
       "      <th>1</th>\n",
       "      <td>381111</td>\n",
       "      <td>0</td>\n",
       "    </tr>\n",
       "    <tr>\n",
       "      <th>2</th>\n",
       "      <td>381112</td>\n",
       "      <td>0</td>\n",
       "    </tr>\n",
       "    <tr>\n",
       "      <th>3</th>\n",
       "      <td>381113</td>\n",
       "      <td>0</td>\n",
       "    </tr>\n",
       "    <tr>\n",
       "      <th>4</th>\n",
       "      <td>381114</td>\n",
       "      <td>0</td>\n",
       "    </tr>\n",
       "  </tbody>\n",
       "</table>\n",
       "</div>"
      ],
      "text/plain": [
       "       id  Response\n",
       "0  381110         0\n",
       "1  381111         0\n",
       "2  381112         0\n",
       "3  381113         0\n",
       "4  381114         0"
      ]
     },
     "execution_count": 70,
     "metadata": {},
     "output_type": "execute_result"
    }
   ],
   "source": [
    "submission_Pipeline = pd.DataFrame(data = {'id': ptest['id'], 'Response': predictions_test_KNN})\n",
    "submission_Pipeline.to_csv('submission_Pipeline.csv', index = False)\n",
    "submission_Pipeline.head()"
   ]
  },
  {
   "cell_type": "code",
   "execution_count": null,
   "id": "bbcb76ff",
   "metadata": {},
   "outputs": [],
   "source": []
  }
 ],
 "metadata": {
  "kernelspec": {
   "display_name": "Python 3 (ipykernel)",
   "language": "python",
   "name": "python3"
  },
  "language_info": {
   "codemirror_mode": {
    "name": "ipython",
    "version": 3
   },
   "file_extension": ".py",
   "mimetype": "text/x-python",
   "name": "python",
   "nbconvert_exporter": "python",
   "pygments_lexer": "ipython3",
   "version": "3.9.12"
  }
 },
 "nbformat": 4,
 "nbformat_minor": 5
}
